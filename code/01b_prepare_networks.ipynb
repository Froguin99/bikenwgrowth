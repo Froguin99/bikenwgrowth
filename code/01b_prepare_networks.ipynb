{
 "cells": [
  {
   "cell_type": "markdown",
   "metadata": {},
   "source": [
    "# Step 1 - Prepare network data\n",
    "## Project: Growing Urban Bicycle Networks"
   ]
  },
  {
   "cell_type": "markdown",
   "metadata": {},
   "source": [
    "This notebook downloads cycle, LTN, and street network data sets and prepares them for analysis.\n",
    "\n",
    "Contact: Chris Larkin (c.larkin@ncl.ac.uk) or Michael Szell (michael.szell@gmail.com)\n",
    " \n",
    "Created: 2024-11-16  \n",
    "Last modified: 2024-11-16 "
   ]
  },
  {
   "cell_type": "markdown",
   "metadata": {},
   "source": [
    "## Preliminaries"
   ]
  },
  {
   "cell_type": "markdown",
   "metadata": {},
   "source": [
    "### Parameters"
   ]
  },
  {
   "cell_type": "code",
   "execution_count": null,
   "metadata": {},
   "outputs": [],
   "source": [
    "debug = False # If True, will produce plots and/or verbose output to double-check\n",
    "%run -i \"../parameters/parameters.py\""
   ]
  },
  {
   "cell_type": "markdown",
   "metadata": {},
   "source": [
    "### Setup"
   ]
  },
  {
   "cell_type": "code",
   "execution_count": null,
   "metadata": {},
   "outputs": [],
   "source": [
    "%run -i path.py\n",
    "%run -i setup.py\n",
    "\n",
    "%load_ext watermark\n",
    "%watermark -n -v -m -g -iv"
   ]
  },
  {
   "cell_type": "markdown",
   "metadata": {},
   "source": [
    "### Functions"
   ]
  },
  {
   "cell_type": "code",
   "execution_count": null,
   "metadata": {},
   "outputs": [],
   "source": [
    "%run -i functions.py"
   ]
  },
  {
   "cell_type": "markdown",
   "metadata": {},
   "source": [
    "## Download and wrangle data"
   ]
  },
  {
   "cell_type": "markdown",
   "metadata": {},
   "source": [
    "### Networks"
   ]
  },
  {
   "cell_type": "code",
   "execution_count": null,
   "metadata": {
    "scrolled": true
   },
   "outputs": [],
   "source": [
    "for placeid, placeinfo in tqdm(cities.items(), desc = \"Cities\"):\n",
    "    if placeinfo[\"nominatimstring\"] != '':\n",
    "        location = ox.geocoder.geocode_to_gdf(placeinfo[\"nominatimstring\"])\n",
    "        if location.geometry[0].geom_type == 'MultiPolygon':\n",
    "            location = location.explode(index_parts=False).reset_index(drop=True)\n",
    "        location = fill_holes(extract_relevant_polygon(placeid, shapely.geometry.shape(location['geometry'][0])))\n",
    "        if debug: # Draw location polygons and their holes\n",
    "            try:\n",
    "                color = cm.rainbow(np.linspace(0,1,len(location)))\n",
    "                for poly,c in zip(location, color):\n",
    "                    plt.plot(*poly.exterior.xy, c = c)\n",
    "                    for intr in poly.interiors:\n",
    "                        plt.plot(*intr.xy, c = \"red\")\n",
    "            except:\n",
    "                plt.plot(*location.exterior.xy)\n",
    "            plt.show()\n",
    "    else:\n",
    "        # https://gis.stackexchange.com/questions/113799/how-to-read-a-shapefile-in-python\n",
    "        shp = fiona.open(PATH[\"data\"] + placeid + \"/\" + placeid + \".shp\")\n",
    "        first = next(iter(shp))\n",
    "        try:\n",
    "            location = Polygon(shapely.geometry.shape(first['geometry'])) # If shape file is given as linestring\n",
    "        except:\n",
    "            location = shapely.geometry.shape(first['geometry'])\n",
    "\n",
    "    Gs = {}\n",
    "    for parameterid, parameterinfo in tqdm(osmnxparameters.items(), desc = \"Networks\", leave = False):\n",
    "        for i in range(0,10): # retry\n",
    "            try:\n",
    "                Gs[parameterid] = ox.graph_from_polygon(location, \n",
    "                                       network_type = parameterinfo['network_type'],\n",
    "                                       custom_filter = (parameterinfo['custom_filter']),\n",
    "                                       retain_all = parameterinfo['retain_all'],\n",
    "                                       simplify = False)\n",
    "            except ValueError:\n",
    "                Gs[parameterid] = nx.empty_graph(create_using = nx.MultiDiGraph)\n",
    "                print(placeid + \": No OSM data for graph \" + parameterid + \". Created empty graph.\")\n",
    "                break\n",
    "            except ConnectionError or UnboundLocalError:\n",
    "                print(\"ConnectionError or UnboundLocalError. Retrying.\")\n",
    "                continue\n",
    "            except:\n",
    "                print(\"Other error. Retrying.\")\n",
    "                continue\n",
    "            break\n",
    "        if parameterinfo['export']: ox_to_csv(Gs[parameterid], PATH[\"data\"] + placeid + \"/\", placeid, parameterid)\n",
    "\n",
    "    # if we have any LTNs, get the neighbourhood streets and save them to \n",
    "\n",
    "    # if we have any LTNs, get the neighbourhood streets and save them to \n",
    "    neighbourhoods = load_neighbourhoods(PATH[\"data\"] + placeid + \"/\")\n",
    "    if not neighbourhoods:\n",
    "        print(placeid + \": No LTN dataset found.\")\n",
    "    else:\n",
    "        neighbourhoods = prepare_neighbourhoods(neighbourhoods)\n",
    "        city_neighbourhood_streets = {}\n",
    "\n",
    "        for city_name, gdf in neighbourhoods.items():\n",
    "            if debug:\n",
    "                print(f\"Processing streets for {city_name}...\")\n",
    "            nodes, edges, neighbourhood_graphs = get_neighbourhood_street_graph(gdf, debug)  # get streets within neighbourhoods\n",
    "            neighbourhood_graphs = process_lists(neighbourhood_graphs)\n",
    "            city_neighbourhood_streets[city_name] = {'nodes': nodes,'edges': edges, 'neighbourhood_graphs': neighbourhood_graphs}\n",
    "\n",
    "\n",
    "\n",
    "    # Compose special cases biketrack, bikeable, biketrackcarall, ltnstreets\n",
    "    parameterid = 'biketrack'\n",
    "    if city_name in city_neighbourhood_streets:\n",
    "        neighbourhood_graph = city_neighbourhood_streets[city_name]['neighbourhood_graphs']\n",
    "        Gs[parameterid] = nx.compose_all([\n",
    "            Gs['bike_cyclewaylefttrack'],\n",
    "            Gs['bike_cyclewaytrack'],\n",
    "            Gs['bike_highwaycycleway'],\n",
    "            Gs['bike_bicycleroad'],\n",
    "            Gs['bike_cyclewayrighttrack'],\n",
    "            Gs['bike_designatedpath'],\n",
    "            Gs['bike_cyclestreet']\n",
    "            ,neighbourhood_graph\n",
    "            ])\n",
    "    ox_to_csv(Gs[parameterid], PATH[\"data\"] + placeid + \"/\", placeid, parameterid)\n",
    "\n",
    "     \n",
    "    parameterid = 'bikeable'\n",
    "    Gs[parameterid] = nx.compose_all([Gs['biketrack'], Gs['car30'], Gs['bike_livingstreet']]) \n",
    "    ox_to_csv(Gs[parameterid], PATH[\"data\"] + placeid + \"/\", placeid, parameterid)\n",
    "\n",
    "    parameterid = 'biketrackcarall'\n",
    "    Gs[parameterid] = nx.compose(Gs['biketrack'], Gs['carall']) # Order is important\n",
    "    ox_to_csv(Gs[parameterid], PATH[\"data\"] + placeid + \"/\", placeid, parameterid)\n",
    "\n",
    "    #parameterid = 'ltnstreets'\n",
    "    #Gs[parameterid] = neighbourhoods_G\n",
    "    #ox_to_csv(Gs[parameterid], PATH[\"data\"] + placeid + \"/\", placeid, parameterid)\n",
    "\n",
    "\n",
    "    for parameterid in networktypes[:-2]:\n",
    "        #G_temp = nx.MultiDiGraph(ox.utils_graph.get_digraph(ox.simplify_graph(Gs[parameterid]))) # This doesnt work - cant get rid of multiedges\n",
    "        ox_to_csv(ox.simplify_graph(Gs[parameterid]), PATH[\"data\"] + placeid + \"/\", placeid, parameterid, \"_simplified\")\n",
    "\n",
    "    # Handle unhashable list issue with LTN streets (source issue to do with OSM edges having lists as attributes, which shouldn't be the case!!)\n",
    "    # for u, v, data in neighbourhoods_G.edges(data=True):\n",
    "    #     for attr, value in data.items():\n",
    "    #         if isinstance(value, list):\n",
    "    #             data[attr] = str(value)\n",
    "    # ox_to_csv(ox.simplify_graph(neighbourhoods_G), PATH[\"data\"] + placeid + \"/\", placeid, \"ltnstreets\", \"_simplified\")\n"
   ]
  },
  {
   "cell_type": "code",
   "execution_count": 57,
   "metadata": {},
   "outputs": [],
   "source": [
    "# Compress all data files (will not do anything if files were compressed already)\n",
    "for folder, subfolders, files in os.walk(PATH[\"data\"]):\n",
    "    for file in files:\n",
    "        if file.endswith('es.csv'):\n",
    "            compress_file(folder + \"/\", file.split(\".\")[0])"
   ]
  },
  {
   "cell_type": "code",
   "execution_count": null,
   "metadata": {},
   "outputs": [],
   "source": [
    "Audio(sound_file, autoplay=True)"
   ]
  }
 ],
 "metadata": {
  "kernelspec": {
   "display_name": "Python 3",
   "language": "python",
   "name": "python3"
  },
  "language_info": {
   "codemirror_mode": {
    "name": "ipython",
    "version": 3
   },
   "file_extension": ".py",
   "mimetype": "text/x-python",
   "name": "python",
   "nbconvert_exporter": "python",
   "pygments_lexer": "ipython3",
   "version": "3.12.6"
  }
 },
 "nbformat": 4,
 "nbformat_minor": 4
}
